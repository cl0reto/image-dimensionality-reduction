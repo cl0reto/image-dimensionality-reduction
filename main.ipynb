{
  "nbformat": 4,
  "nbformat_minor": 0,
  "metadata": {
    "colab": {
      "provenance": []
    },
    "kernelspec": {
      "name": "python3",
      "display_name": "Python 3"
    },
    "language_info": {
      "name": "python"
    }
  },
  "cells": [
    {
      "cell_type": "code",
      "source": [
        "import numpy as np\n",
        "from PIL import Image"
      ],
      "metadata": {
        "id": "p7cmETjmbeeo"
      },
      "execution_count": 21,
      "outputs": []
    },
    {
      "cell_type": "code",
      "source": [
        "# Convert RGB image to grayscale using luminance formula\n",
        "def RGB2Gray(image_path, output_path=None):\n",
        "    img = Image.open(image_path)\n",
        "    width, height = img.size\n",
        "    grayscale_img = np.zeros((height, width), dtype=np.uint8)\n",
        "    pixels = img.load()\n",
        "\n",
        "    for y in range(height):\n",
        "        for x in range(width):\n",
        "            r, g, b = pixels[x, y]\n",
        "            gray = int(0.299 * r + 0.587 * g + 0.114 * b) # Luminance calculation\n",
        "            gray = max(0, min(255, gray)) # Clamp to 0-255 range\n",
        "            grayscale_img[y, x] = gray\n",
        "\n",
        "    output_img = Image.fromarray(grayscale_img)\n",
        "\n",
        "    if output_path:\n",
        "      output_img.save(output_path)\n",
        "\n",
        "    return grayscale_img"
      ],
      "metadata": {
        "id": "0Q7TinsJn2Gs"
      },
      "execution_count": 22,
      "outputs": []
    },
    {
      "cell_type": "code",
      "source": [
        "# Convert RGB image to binary using thresholding\n",
        "def RGB2Binary(image_path, output_path=None, threshold=128):\n",
        "    img = RGB2Gray(image_path, output_path)\n",
        "    gray_array = np.array(img)\n",
        "    binary_array = np.zeros_like(gray_array)\n",
        "    binary_array[gray_array > threshold] = 255\n",
        "    binary_img = Image.fromarray(binary_array)\n",
        "\n",
        "    if output_path:\n",
        "      binary_img.save(output_path)\n",
        "\n",
        "    return binary_array"
      ],
      "metadata": {
        "id": "XsZWds4QrRYx"
      },
      "execution_count": 23,
      "outputs": []
    },
    {
      "cell_type": "code",
      "source": [
        "ORIGINAL_IMG_PATH = 'img/lenna-original.png'\n",
        "GRAY_IMG_PATH = 'img/lenna-gray.png'\n",
        "BINARY_IMG_PATH = 'img/lenna-binary.png'"
      ],
      "metadata": {
        "id": "kWfe9f9MoKz-"
      },
      "execution_count": 24,
      "outputs": []
    },
    {
      "cell_type": "code",
      "source": [
        "RGB2Gray(ORIGINAL_IMG_PATH, GRAY_IMG_PATH)"
      ],
      "metadata": {
        "id": "9pMUD4VkpGmO"
      },
      "execution_count": null,
      "outputs": []
    },
    {
      "cell_type": "code",
      "source": [
        "RGB2Binary(ORIGINAL_IMG_PATH, BINARY_IMG_PATH)"
      ],
      "metadata": {
        "id": "aHlY0fTAptPF"
      },
      "execution_count": null,
      "outputs": []
    }
  ]
}